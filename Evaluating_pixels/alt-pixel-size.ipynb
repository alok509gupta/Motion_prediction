{
 "cells": [
  {
   "cell_type": "markdown",
   "metadata": {
    "papermill": {
     "duration": 0.028071,
     "end_time": "2020-12-13T15:44:00.007206",
     "exception": false,
     "start_time": "2020-12-13T15:43:59.979135",
     "status": "completed"
    },
    "tags": []
   },
   "source": [
    "# Lyft: Complete train and prediction pipeline\n",
    "\n",
    "This notebook is modified slightly from https://www.kaggle.com/huanvo/lyft-complete-train-and-prediction-pipeline\n",
    "\n",
    "\n",
    "Change log:\n",
    "- v12 (2020-10-29): faster prediction - reduce batch size due to machine limit on Kaggle\n",
    "- v10 (2020-10-29): faster prediction\n",
    "- v9 (2020-10-28): get some real training\n",
    "- v8 (2020-10-25): skip computing loss to see if prediction will be faster."
   ]
  },
  {
   "cell_type": "markdown",
   "metadata": {
    "_cell_guid": "79c7e3d0-c299-4dcb-8224-4455121ee9b0",
    "_uuid": "d629ff2d2480ee46fbb7e2d37f6b5fab8052498a",
    "collapsed": true,
    "papermill": {
     "duration": 0.025798,
     "end_time": "2020-12-13T15:44:00.059841",
     "exception": false,
     "start_time": "2020-12-13T15:44:00.034043",
     "status": "completed"
    },
    "tags": []
   },
   "source": [
    "# Environment setup\n",
    "\n",
    " - Please add [pestipeti/lyft-l5kit-unofficial-fix](https://www.kaggle.com/pestipeti/lyft-l5kit-unofficial-fix) as utility script.\n",
    "    - Official utility script \"[philculliton/kaggle-l5kit](https://www.kaggle.com/mathurinache/kaggle-l5kit)\" does not work with pytorch GPU.\n",
    "\n",
    "Click \"File\" botton on top-left, and choose \"Add utility script\". For the pop-up search window, you need to remove \"Your Work\" filter, and search [pestipeti/lyft-l5kit-unofficial-fix](https://www.kaggle.com/pestipeti/lyft-l5kit-unofficial-fix) on top-right of the search window. Then you can add the kaggle-l5kit utility script. It is much faster to do this rather than !pip install l5kit every time you run the notebook. \n",
    "\n",
    "If successful, you can see \"usr/lib/lyft-l5kit-unofficial-fix\" is added to the \"Data\" section of this kernel page on right side of the kernel.\n",
    "\n",
    "- Also please add [pretrained baseline model](https://www.kaggle.com/huanvo/lyft-pretrained-model-hv)\n",
    "\n",
    "Click on the button \"Add data\" in the \"Data\" section and search for lyft-pretrained-model-hv. If you find the model useful, please upvote it as well.  "
   ]
  },
  {
   "cell_type": "code",
   "execution_count": 1,
   "metadata": {
    "execution": {
     "iopub.execute_input": "2020-12-13T15:44:00.126938Z",
     "iopub.status.busy": "2020-12-13T15:44:00.126298Z",
     "iopub.status.idle": "2020-12-13T15:44:06.508284Z",
     "shell.execute_reply": "2020-12-13T15:44:06.508786Z"
    },
    "papermill": {
     "duration": 6.421101,
     "end_time": "2020-12-13T15:44:06.508945",
     "exception": false,
     "start_time": "2020-12-13T15:44:00.087844",
     "status": "completed"
    },
    "tags": []
   },
   "outputs": [
    {
     "name": "stdout",
     "output_type": "stream",
     "text": [
      "1.1.0\n"
     ]
    }
   ],
   "source": [
    "from typing import Dict\n",
    "\n",
    "from tempfile import gettempdir\n",
    "import matplotlib.pyplot as plt\n",
    "import numpy as np\n",
    "import pandas as pd\n",
    "import torch\n",
    "from torch import nn, optim\n",
    "import torch.nn.functional as F\n",
    "import torch.nn as nn\n",
    "from torch.utils.data import DataLoader, SubsetRandomSampler\n",
    "import torchvision\n",
    "from torchvision.models.resnet import resnet50, resnet18, resnet34, resnet101\n",
    "from tqdm import tqdm\n",
    "\n",
    "import l5kit\n",
    "from l5kit.configs import load_config_data\n",
    "from l5kit.data import LocalDataManager, ChunkedDataset\n",
    "from l5kit.dataset import AgentDataset, EgoDataset\n",
    "from l5kit.rasterization import build_rasterizer\n",
    "from l5kit.evaluation import write_pred_csv, compute_metrics_csv, read_gt_csv, create_chopped_dataset\n",
    "from l5kit.evaluation.chop_dataset import MIN_FUTURE_STEPS\n",
    "from l5kit.evaluation.metrics import neg_multi_log_likelihood, time_displace\n",
    "from l5kit.geometry import transform_points\n",
    "from l5kit.visualization import PREDICTED_POINTS_COLOR, TARGET_POINTS_COLOR, draw_trajectory\n",
    "from prettytable import PrettyTable\n",
    "from pathlib import Path\n",
    "\n",
    "import matplotlib.pyplot as plt\n",
    "\n",
    "import os\n",
    "import random\n",
    "import time\n",
    "\n",
    "import warnings\n",
    "warnings.filterwarnings(\"ignore\")\n",
    "\n",
    "from IPython.display import display\n",
    "from tqdm import tqdm_notebook\n",
    "import gc, psutil\n",
    "\n",
    "print(l5kit.__version__)"
   ]
  },
  {
   "cell_type": "code",
   "execution_count": 2,
   "metadata": {
    "execution": {
     "iopub.execute_input": "2020-12-13T15:44:06.570648Z",
     "iopub.status.busy": "2020-12-13T15:44:06.569791Z",
     "iopub.status.idle": "2020-12-13T15:44:06.576059Z",
     "shell.execute_reply": "2020-12-13T15:44:06.576653Z"
    },
    "papermill": {
     "duration": 0.041113,
     "end_time": "2020-12-13T15:44:06.576799",
     "exception": false,
     "start_time": "2020-12-13T15:44:06.535686",
     "status": "completed"
    },
    "tags": []
   },
   "outputs": [
    {
     "name": "stdout",
     "output_type": "stream",
     "text": [
      "Physical memory: 1.14 GB (used), 14.50 GB (available) / 15.64 GB\n"
     ]
    }
   ],
   "source": [
    "# Memory measurement\n",
    "def memory(verbose=True):\n",
    "    mem = psutil.virtual_memory()\n",
    "    gb = 1024*1024*1024\n",
    "    if verbose:\n",
    "        print('Physical memory:',\n",
    "              '%.2f GB (used),'%((mem.total - mem.available) / gb),\n",
    "              '%.2f GB (available)'%((mem.available) / gb), '/',\n",
    "              '%.2f GB'%(mem.total / gb))\n",
    "    return (mem.total - mem.available) / gb\n",
    "\n",
    "def gc_memory(verbose=True):\n",
    "    m = gc.collect()\n",
    "    if verbose:\n",
    "        print('GC:', m, end=' | ')\n",
    "        memory()\n",
    "\n",
    "memory();"
   ]
  },
  {
   "cell_type": "code",
   "execution_count": 3,
   "metadata": {
    "execution": {
     "iopub.execute_input": "2020-12-13T15:44:06.638143Z",
     "iopub.status.busy": "2020-12-13T15:44:06.637371Z",
     "iopub.status.idle": "2020-12-13T15:44:06.644864Z",
     "shell.execute_reply": "2020-12-13T15:44:06.644122Z"
    },
    "papermill": {
     "duration": 0.041111,
     "end_time": "2020-12-13T15:44:06.644980",
     "exception": false,
     "start_time": "2020-12-13T15:44:06.603869",
     "status": "completed"
    },
    "tags": []
   },
   "outputs": [],
   "source": [
    "def set_seed(seed):\n",
    "    random.seed(seed)\n",
    "    np.random.seed(seed)\n",
    "    os.environ[\"PYTHONHASHSEED\"] = str(seed)\n",
    "    torch.manual_seed(seed)\n",
    "    torch.cuda.manual_seed(seed)\n",
    "set_seed(42)"
   ]
  },
  {
   "cell_type": "markdown",
   "metadata": {
    "papermill": {
     "duration": 0.026933,
     "end_time": "2020-12-13T15:44:06.700299",
     "exception": false,
     "start_time": "2020-12-13T15:44:06.673366",
     "status": "completed"
    },
    "tags": []
   },
   "source": [
    "# Configs"
   ]
  },
  {
   "cell_type": "code",
   "execution_count": 4,
   "metadata": {
    "execution": {
     "iopub.execute_input": "2020-12-13T15:44:06.792068Z",
     "iopub.status.busy": "2020-12-13T15:44:06.791307Z",
     "iopub.status.idle": "2020-12-13T15:44:06.793941Z",
     "shell.execute_reply": "2020-12-13T15:44:06.794537Z"
    },
    "papermill": {
     "duration": 0.034938,
     "end_time": "2020-12-13T15:44:06.794683",
     "exception": false,
     "start_time": "2020-12-13T15:44:06.759745",
     "status": "completed"
    },
    "tags": []
   },
   "outputs": [],
   "source": [
    "from torch.utils.data import DataLoader, SubsetRandomSampler"
   ]
  },
  {
   "cell_type": "code",
   "execution_count": 5,
   "metadata": {
    "execution": {
     "iopub.execute_input": "2020-12-13T15:44:06.873151Z",
     "iopub.status.busy": "2020-12-13T15:44:06.872222Z",
     "iopub.status.idle": "2020-12-13T15:49:08.989671Z",
     "shell.execute_reply": "2020-12-13T15:49:08.990717Z"
    },
    "papermill": {
     "duration": 302.168786,
     "end_time": "2020-12-13T15:49:08.990949",
     "exception": false,
     "start_time": "2020-12-13T15:44:06.822163",
     "status": "completed"
    },
    "tags": []
   },
   "outputs": [
    {
     "name": "stdout",
     "output_type": "stream",
     "text": [
      "Before slicing, start indices are  [ 4544818 11783688  2821987 10532781  1993967 15711361  7726097   547516\n",
      " 17556178  7275034]\n",
      "After slicing, start indices are  [16360233  9884923  1805097 16051402 13187266  1826901  8752735  7856572\n",
      "  6518566  9451303]\n"
     ]
    }
   ],
   "source": [
    "# --- Lyft configs ---\n",
    "cfg = {\n",
    "    'format_version': 4,\n",
    "    'data_path': \"../input/lyft-motion-prediction-autonomous-vehicles/\",\n",
    "    'model_params': {\n",
    "        'model_architecture': 'resnet34',\n",
    "        'history_num_frames': 10,\n",
    "        'history_step_size': 1,\n",
    "        'history_delta_time': 0.1,\n",
    "        'future_num_frames': 50,\n",
    "        'model_name': 'mymodel34',\n",
    "        'future_step_size': 1,\n",
    "        'future_delta_time': 0.1,\n",
    "        'lr': 7e-4,\n",
    "        'train': True,\n",
    "        'predict': True,\n",
    "        'oldmodel_exists' : False,\n",
    "    },\n",
    "\n",
    "    'raster_params': {\n",
    "        'raster_size': [224, 224],\n",
    "        'pixel_size': [0.25,0.25],\n",
    "        'ego_center': [0.25, 0.5],\n",
    "        'map_type': 'py_semantic',\n",
    "        'satellite_map_key': 'aerial_map/aerial_map.png',\n",
    "        'semantic_map_key': 'semantic_map/semantic_map.pb',\n",
    "        'dataset_meta_key': 'meta.json',\n",
    "        'filter_agents_threshold': 0.5\n",
    "    },\n",
    "\n",
    "    'train_data_loader': {\n",
    "        'key': 'scenes/train.zarr',\n",
    "        'batch_size': 32,\n",
    "        'shuffle': True,\n",
    "        'num_workers': 4\n",
    "    },\n",
    "    \n",
    "    'val_data_loader': {\n",
    "        'key': 'scenes/validate.zarr',\n",
    "        'batch_size': 16,\n",
    "        'shuffle': True,\n",
    "        'num_workers': 4\n",
    "    },\n",
    "    \n",
    "    'test_data_loader': {\n",
    "        'key': 'scenes/test.zarr',\n",
    "        'batch_size': 32,\n",
    "        'shuffle': False,\n",
    "        'num_workers': 4\n",
    "    },\n",
    "\n",
    "    'train_params': {\n",
    "        'train_start_index' : 58000,\n",
    "        'max_num_steps': 500,\n",
    "        'checkpoint_every_n_steps': 100,\n",
    "    }\n",
    "}\n",
    "\n",
    "def find_no_of_trainable_params(model):\n",
    "    total_trainable_params = sum(p.numel() for p in model.parameters() if p.requires_grad)\n",
    "    #print(total_trainable_params)\n",
    "    return total_trainable_params\n",
    "\n",
    "def set_seed(seed):\n",
    "    random.seed(seed)\n",
    "    np.random.seed(seed)\n",
    "    os.environ[\"PYTHONHASHSEED\"] = str(seed)\n",
    "    torch.manual_seed(seed)\n",
    "    torch.cuda.manual_seed(seed)\n",
    "    \n",
    "set_seed(42)\n",
    "\n",
    "NUMBER_OF_HISTORY_FRAMES = cfg['model_params']['history_num_frames'] + 1\n",
    "RASTER_IMG_SIZE = cfg['raster_params']['raster_size'][0]\n",
    "NUM_MODES = 3\n",
    "NUMBER_OF_FUTURE_FRAMES = cfg['model_params']['future_num_frames']\n",
    "TRAIN_BATCH_SIZE = cfg['train_data_loader']['batch_size'] \n",
    "### TRAIN FROM WHERE LEFT OFF, CHANGE THE STARTING INDICES VARIABLE ACCORDINGLY\n",
    "TRAIN_START_INDICES = cfg['train_params']['train_start_index']\n",
    "EXTENT_RANGE = 5.0 \n",
    "\n",
    "# set env variable for data\n",
    "DIR_INPUT = cfg[\"data_path\"]\n",
    "os.environ[\"L5KIT_DATA_FOLDER\"] = DIR_INPUT\n",
    "dm = LocalDataManager(None)\n",
    "rasterizer = build_rasterizer(cfg, dm)\n",
    "\n",
    "# ===== INIT TRAIN DATASET============================================================\n",
    "train_cfg = cfg[\"train_data_loader\"]\n",
    "train_zarr = ChunkedDataset(dm.require(train_cfg[\"key\"])).open()\n",
    "train_dataset = AgentDataset(cfg, train_zarr, rasterizer)\n",
    "\n",
    "sampled_indices = np.random.choice(len(train_dataset), size = len(train_dataset), replace = False)\n",
    "print('Before slicing, start indices are ', sampled_indices[0:10])\n",
    "\n",
    "TRAIN_START_INDICES\n",
    "\n",
    "sampled_indices = sampled_indices[TRAIN_START_INDICES:TRAIN_START_INDICES+cfg['train_params']['max_num_steps']+1]\n",
    "print('After slicing, start indices are ', sampled_indices[0:10])\n",
    "Datasampler = SubsetRandomSampler(sampled_indices)\n",
    "\n",
    "train_dataloader = DataLoader(train_dataset, sampler=Datasampler, batch_size=train_cfg[\"batch_size\"], \n",
    "                             num_workers=train_cfg[\"num_workers\"])"
   ]
  },
  {
   "cell_type": "markdown",
   "metadata": {
    "papermill": {
     "duration": 0.027575,
     "end_time": "2020-12-13T15:49:09.047959",
     "exception": false,
     "start_time": "2020-12-13T15:49:09.020384",
     "status": "completed"
    },
    "tags": []
   },
   "source": [
    "Couple of things to note:\n",
    "\n",
    " - **model_architecture:** you can put 'resnet18', 'resnet34' or 'resnet50'. For the pretrained model we use resnet18 so we need to use 'resnet18' in the config.\n",
    " - **weight_path:** path to the pretrained model. If you don't have a pretrained model and want to train from scratch, put **weight_path** = False. \n",
    " - **model_name:** the name of the model that will be saved as output, this is only when **train**= True.\n",
    " - **train:** True if you want to train the model.\n",
    " - **predict:** True if you want to predict and submit to Kaggle.\n",
    " - **lr:** learning rate of the model.\n",
    " - **raster_size:** specify the size of the image, the default is [224,224]. Increase **raster_size** can improve the score. However the training time will be significantly longer. \n",
    " - **batch_size:** number of samples for one forward pass\n",
    " - **steps:** number of batches of data that the model will be trained on. (note this is not epoch)\n",
    " - **checkpoint_every_n_steps:** the model will be saved at every n steps, again change this number as to how you want to keep track of the model.\n",
    " \n",
    " \n",
    " Note (Louis): The original pretrained model doesn't save the state of optimizer, so continute training doesn't work too well."
   ]
  },
  {
   "cell_type": "markdown",
   "metadata": {
    "papermill": {
     "duration": 0.027806,
     "end_time": "2020-12-13T15:49:09.104259",
     "exception": false,
     "start_time": "2020-12-13T15:49:09.076453",
     "status": "completed"
    },
    "tags": []
   },
   "source": [
    "# Load the train and test datasets"
   ]
  },
  {
   "cell_type": "code",
   "execution_count": 6,
   "metadata": {
    "execution": {
     "iopub.execute_input": "2020-12-13T15:49:09.163947Z",
     "iopub.status.busy": "2020-12-13T15:49:09.163273Z",
     "iopub.status.idle": "2020-12-13T15:49:09.167388Z",
     "shell.execute_reply": "2020-12-13T15:49:09.166883Z"
    },
    "papermill": {
     "duration": 0.036034,
     "end_time": "2020-12-13T15:49:09.167485",
     "exception": false,
     "start_time": "2020-12-13T15:49:09.131451",
     "status": "completed"
    },
    "tags": []
   },
   "outputs": [],
   "source": [
    "# set env variable for data\n",
    "DIR_INPUT = cfg[\"data_path\"]\n",
    "os.environ[\"L5KIT_DATA_FOLDER\"] = DIR_INPUT\n",
    "dm = LocalDataManager()"
   ]
  },
  {
   "cell_type": "code",
   "execution_count": 7,
   "metadata": {
    "execution": {
     "iopub.execute_input": "2020-12-13T15:49:09.226805Z",
     "iopub.status.busy": "2020-12-13T15:49:09.226139Z",
     "iopub.status.idle": "2020-12-13T15:49:12.130508Z",
     "shell.execute_reply": "2020-12-13T15:49:12.131778Z"
    },
    "papermill": {
     "duration": 2.937275,
     "end_time": "2020-12-13T15:49:12.132058",
     "exception": false,
     "start_time": "2020-12-13T15:49:09.194783",
     "status": "completed"
    },
    "tags": []
   },
   "outputs": [
    {
     "name": "stdout",
     "output_type": "stream",
     "text": [
      "CPU times: user 242 ms, sys: 115 ms, total: 357 ms\n",
      "Wall time: 2.9 s\n"
     ]
    }
   ],
   "source": [
    "%%time\n",
    "# Test dataset\n",
    "test_cfg = cfg[\"test_data_loader\"]\n",
    "test_zarr = ChunkedDataset(dm.require(test_cfg[\"key\"])).open(cached=False)  # to prevent run out of memory\n",
    "test_mask = np.load(f\"{DIR_INPUT}/scenes/mask.npz\")[\"arr_0\"]\n",
    "test_dataset = AgentDataset(cfg, test_zarr, rasterizer, agents_mask=test_mask)\n",
    "test_dataloader = DataLoader(test_dataset, shuffle=test_cfg[\"shuffle\"],\n",
    "                             batch_size=test_cfg[\"batch_size\"], num_workers=test_cfg[\"num_workers\"])"
   ]
  },
  {
   "cell_type": "code",
   "execution_count": 8,
   "metadata": {
    "execution": {
     "iopub.execute_input": "2020-12-13T15:49:12.201214Z",
     "iopub.status.busy": "2020-12-13T15:49:12.199763Z",
     "iopub.status.idle": "2020-12-13T15:49:12.204039Z",
     "shell.execute_reply": "2020-12-13T15:49:12.201776Z"
    },
    "papermill": {
     "duration": 0.037584,
     "end_time": "2020-12-13T15:49:12.204174",
     "exception": false,
     "start_time": "2020-12-13T15:49:12.166590",
     "status": "completed"
    },
    "tags": []
   },
   "outputs": [
    {
     "name": "stdout",
     "output_type": "stream",
     "text": [
      "22496709 71122\n"
     ]
    }
   ],
   "source": [
    "print(len(train_dataset), len(test_dataset))"
   ]
  },
  {
   "cell_type": "markdown",
   "metadata": {
    "papermill": {
     "duration": 0.027917,
     "end_time": "2020-12-13T15:49:12.261624",
     "exception": false,
     "start_time": "2020-12-13T15:49:12.233707",
     "status": "completed"
    },
    "tags": []
   },
   "source": [
    "Note that the train set size is much bigger than our steps * batch_size. So we will not even finish 1 epoch of training here."
   ]
  },
  {
   "cell_type": "markdown",
   "metadata": {
    "papermill": {
     "duration": 0.027433,
     "end_time": "2020-12-13T15:49:12.316476",
     "exception": false,
     "start_time": "2020-12-13T15:49:12.289043",
     "status": "completed"
    },
    "tags": []
   },
   "source": [
    "# Simple visualization\n",
    "\n",
    "Let us visualize how an input to the model looks like."
   ]
  },
  {
   "cell_type": "code",
   "execution_count": 9,
   "metadata": {
    "execution": {
     "iopub.execute_input": "2020-12-13T15:49:12.380763Z",
     "iopub.status.busy": "2020-12-13T15:49:12.380104Z",
     "iopub.status.idle": "2020-12-13T15:49:12.383734Z",
     "shell.execute_reply": "2020-12-13T15:49:12.384190Z"
    },
    "papermill": {
     "duration": 0.039895,
     "end_time": "2020-12-13T15:49:12.384336",
     "exception": false,
     "start_time": "2020-12-13T15:49:12.344441",
     "status": "completed"
    },
    "tags": []
   },
   "outputs": [],
   "source": [
    "def visualize_trajectory(dataset, index, title=\"target_positions movement with draw_trajectory\"):\n",
    "    data = dataset[index]\n",
    "    im = data[\"image\"].transpose(1, 2, 0)\n",
    "    im = dataset.rasterizer.to_rgb(im)\n",
    "    target_positions_pixels = transform_points(data[\"target_positions\"] + data[\"centroid\"][:2], data[\"world_to_image\"])\n",
    "    draw_trajectory(im, target_positions_pixels, TARGET_POINTS_COLOR, radius=1, yaws=data[\"target_yaws\"])\n",
    "\n",
    "    plt.title(title)\n",
    "    plt.imshow(im[::-1])\n",
    "    plt.show()"
   ]
  },
  {
   "cell_type": "code",
   "execution_count": 10,
   "metadata": {
    "execution": {
     "iopub.execute_input": "2020-12-13T15:49:12.449141Z",
     "iopub.status.busy": "2020-12-13T15:49:12.448382Z",
     "iopub.status.idle": "2020-12-13T15:49:16.960758Z",
     "shell.execute_reply": "2020-12-13T15:49:16.959766Z"
    },
    "papermill": {
     "duration": 4.547164,
     "end_time": "2020-12-13T15:49:16.960878",
     "exception": false,
     "start_time": "2020-12-13T15:49:12.413714",
     "status": "completed"
    },
    "tags": []
   },
   "outputs": [
    {
     "data": {
      "image/png": "[encoded data removed]",
      "text/plain": [
       "<Figure size 576x432 with 1 Axes>"
      ]
     },
     "metadata": {
      "needs_background": "light"
     },
     "output_type": "display_data"
    },
    {
     "data": {
      "image/png": "[encoded data removed]",
      "text/plain": [
       "<Figure size 1080x1080 with 25 Axes>"
      ]
     },
     "metadata": {
      "needs_background": "light"
     },
     "output_type": "display_data"
    }
   ],
   "source": [
    "i_plot = 4\n",
    "\n",
    "plt.figure(figsize=(8, 6))\n",
    "visualize_trajectory(train_dataset, index=i_plot)\n",
    "\n",
    "plt.figure(figsize=(15, 15))\n",
    "for i in range(25):\n",
    "    plt.subplot(5, 5, i+1).set_title(f'{i}')\n",
    "    plt.imshow(train_dataset[i_plot]['image'][i])\n",
    "plt.show()"
   ]
  },
  {
   "cell_type": "markdown",
   "metadata": {
    "papermill": {
     "duration": 0.030132,
     "end_time": "2020-12-13T15:49:17.025747",
     "exception": false,
     "start_time": "2020-12-13T15:49:16.995615",
     "status": "completed"
    },
    "tags": []
   },
   "source": [
    "# Loss function\n",
    "\n",
    "For this competition it is important to use the correct loss function when train the model. Our goal is to predict three possible paths together with the confidence score, so we need to use the loss function that takes that into account, simply using RMSE will not lead to an accurate model. More information about the loss function can be found here [negative log likelihood](https://github.com/lyft/l5kit/blob/master/competition.md)."
   ]
  },
  {
   "cell_type": "code",
   "execution_count": 11,
   "metadata": {
    "execution": {
     "iopub.execute_input": "2020-12-13T15:49:17.110628Z",
     "iopub.status.busy": "2020-12-13T15:49:17.109010Z",
     "iopub.status.idle": "2020-12-13T15:49:17.111532Z",
     "shell.execute_reply": "2020-12-13T15:49:17.112021Z"
    },
    "papermill": {
     "duration": 0.055539,
     "end_time": "2020-12-13T15:49:17.112139",
     "exception": false,
     "start_time": "2020-12-13T15:49:17.056600",
     "status": "completed"
    },
    "tags": []
   },
   "outputs": [],
   "source": [
    "# --- Function utils ---\n",
    "# Original code from https://github.com/lyft/l5kit/blob/20ab033c01610d711c3d36e1963ecec86e8b85b6/l5kit/l5kit/evaluation/metrics.py\n",
    "import numpy as np\n",
    "\n",
    "import torch\n",
    "from torch import Tensor\n",
    "\n",
    "\n",
    "def pytorch_neg_multi_log_likelihood_batch(\n",
    "    gt: Tensor, pred: Tensor, confidences: Tensor, avails: Tensor\n",
    ") -> Tensor:\n",
    "    \"\"\"\n",
    "    Compute a negative log-likelihood for the multi-modal scenario.\n",
    "    log-sum-exp trick is used here to avoid underflow and overflow, For more information about it see:\n",
    "    https://en.wikipedia.org/wiki/LogSumExp#log-sum-exp_trick_for_log-domain_calculations\n",
    "    https://timvieira.github.io/blog/post/2014/02/11/exp-normalize-trick/\n",
    "    https://leimao.github.io/blog/LogSumExp/\n",
    "    Args:\n",
    "        gt (Tensor): array of shape (bs)x(time)x(2D coords)\n",
    "        pred (Tensor): array of shape (bs)x(modes)x(time)x(2D coords)\n",
    "        confidences (Tensor): array of shape (bs)x(modes) with a confidence for each mode in each sample\n",
    "        avails (Tensor): array of shape (bs)x(time) with the availability for each gt timestep\n",
    "    Returns:\n",
    "        Tensor: negative log-likelihood for this example, a single float number\n",
    "    \"\"\"\n",
    "    assert len(pred.shape) == 4, f\"expected 3D (MxTxC) array for pred, got {pred.shape}\"\n",
    "    batch_size, num_modes, future_len, num_coords = pred.shape\n",
    "\n",
    "    assert gt.shape == (batch_size, future_len, num_coords), f\"expected 2D (Time x Coords) array for gt, got {gt.shape}\"\n",
    "    assert confidences.shape == (batch_size, num_modes), f\"expected 1D (Modes) array for gt, got {confidences.shape}\"\n",
    "    assert torch.allclose(torch.sum(confidences, dim=1), confidences.new_ones((batch_size,))), \"confidences should sum to 1\"\n",
    "    assert avails.shape == (batch_size, future_len), f\"expected 1D (Time) array for gt, got {avails.shape}\"\n",
    "    # assert all data are valid\n",
    "    assert torch.isfinite(pred).all(), \"invalid value found in pred\"\n",
    "    assert torch.isfinite(gt).all(), \"invalid value found in gt\"\n",
    "    assert torch.isfinite(confidences).all(), \"invalid value found in confidences\"\n",
    "    assert torch.isfinite(avails).all(), \"invalid value found in avails\"\n",
    "\n",
    "    # convert to (batch_size, num_modes, future_len, num_coords)\n",
    "    gt = torch.unsqueeze(gt, 1)  # add modes\n",
    "    avails = avails[:, None, :, None]  # add modes and cords\n",
    "\n",
    "    # error (batch_size, num_modes, future_len)\n",
    "    error = torch.sum(((gt - pred) * avails) ** 2, dim=-1)  # reduce coords and use availability\n",
    "\n",
    "    with np.errstate(divide=\"ignore\"):  # when confidence is 0 log goes to -inf, but we're fine with it\n",
    "        # error (batch_size, num_modes)\n",
    "        error = torch.log(confidences) - 0.5 * torch.sum(error, dim=-1)  # reduce time\n",
    "\n",
    "    # use max aggregator on modes for numerical stability\n",
    "    # error (batch_size, num_modes)\n",
    "    max_value, _ = error.max(dim=1, keepdim=True)  # error are negative at this point, so max() gives the minimum one\n",
    "    error = -torch.log(torch.sum(torch.exp(error - max_value), dim=-1, keepdim=True)) - max_value  # reduce modes\n",
    "    # print(\"error\", error)\n",
    "    return torch.mean(error)\n",
    "\n",
    "\n",
    "def pytorch_neg_multi_log_likelihood_single(\n",
    "    gt: Tensor, pred: Tensor, avails: Tensor\n",
    ") -> Tensor:\n",
    "    \"\"\"\n",
    "\n",
    "    Args:\n",
    "        gt (Tensor): array of shape (bs)x(time)x(2D coords)\n",
    "        pred (Tensor): array of shape (bs)x(time)x(2D coords)\n",
    "        avails (Tensor): array of shape (bs)x(time) with the availability for each gt timestep\n",
    "    Returns:\n",
    "        Tensor: negative log-likelihood for this example, a single float number\n",
    "    \"\"\"\n",
    "    # pred (bs)x(time)x(2D coords) --> (bs)x(mode=1)x(time)x(2D coords)\n",
    "    # create confidence (bs)x(mode=1)\n",
    "    batch_size, future_len, num_coords = pred.shape\n",
    "    confidences = pred.new_ones((batch_size, 1))\n",
    "    return pytorch_neg_multi_log_likelihood_batch(gt, pred.unsqueeze(1), confidences, avails)"
   ]
  },
  {
   "cell_type": "markdown",
   "metadata": {
    "papermill": {
     "duration": 0.030364,
     "end_time": "2020-12-13T15:49:17.172783",
     "exception": false,
     "start_time": "2020-12-13T15:49:17.142419",
     "status": "completed"
    },
    "tags": []
   },
   "source": [
    "# Model\n",
    "Next we define the baseline model. Note that this model will return three possible trajectories together with confidence score for each trajectory."
   ]
  },
  {
   "cell_type": "code",
   "execution_count": 12,
   "metadata": {
    "execution": {
     "iopub.execute_input": "2020-12-13T15:49:17.257034Z",
     "iopub.status.busy": "2020-12-13T15:49:17.255257Z",
     "iopub.status.idle": "2020-12-13T15:49:17.257698Z",
     "shell.execute_reply": "2020-12-13T15:49:17.258154Z"
    },
    "papermill": {
     "duration": 0.05504,
     "end_time": "2020-12-13T15:49:17.258264",
     "exception": false,
     "start_time": "2020-12-13T15:49:17.203224",
     "status": "completed"
    },
    "tags": []
   },
   "outputs": [],
   "source": [
    "from torchvision.models.resnet import resnet50, resnet101, resnet34\n",
    "\n",
    "class LyftMultiModel(nn.Module):\n",
    "\n",
    "    def __init__(self, cfg: Dict, num_modes=3):\n",
    "        super().__init__()\n",
    "\n",
    "        architecture = cfg[\"model_params\"][\"model_architecture\"]\n",
    "        backbone = eval(architecture)(pretrained=True)\n",
    "        self.backbone = backbone\n",
    "\n",
    "        num_history_channels = (cfg[\"model_params\"][\"history_num_frames\"] + 1) * 2\n",
    "        num_in_channels = 3 + num_history_channels\n",
    "\n",
    "        self.backbone.conv1 = nn.Conv2d(\n",
    "            num_in_channels,\n",
    "            self.backbone.conv1.out_channels,\n",
    "            kernel_size=self.backbone.conv1.kernel_size,\n",
    "            stride=self.backbone.conv1.stride,\n",
    "            padding=self.backbone.conv1.padding,\n",
    "            bias=False,\n",
    "        )\n",
    "\n",
    "        # This is 512 for resnet18 and resnet34;\n",
    "        # And it is 2048 for the other resnets\n",
    "        \n",
    "        if architecture == \"resnet50\":\n",
    "            backbone_out_features = 2048\n",
    "        else:\n",
    "            backbone_out_features = 512\n",
    "\n",
    "        self.dropout = nn.Dropout(p=0.3)\n",
    "            \n",
    "        # X, Y coords for the future positions (output shape: batch_sizex50x2)\n",
    "        self.future_len = cfg[\"model_params\"][\"future_num_frames\"]\n",
    "        num_targets = 2 * self.future_len\n",
    "        other_agent_features = num_history_channels + 3 # extent info is 3d \n",
    "        total_num_features = backbone_out_features + other_agent_features\n",
    "        self.head = nn.Linear(in_features=total_num_features, out_features=1024)\n",
    "\n",
    "        # final prediction - a fc layer with desired number of outputs, no activation\n",
    "        self.num_preds = num_targets * num_modes\n",
    "        self.num_modes = num_modes\n",
    "        self.logit = nn.Linear(1024, out_features=self.num_preds + num_modes)\n",
    "\n",
    "    def forward(self, x, agent_data):\n",
    "        x = self.backbone.conv1(x)\n",
    "        x = self.backbone.bn1(x)\n",
    "        x = self.backbone.relu(x)\n",
    "        x = self.backbone.maxpool(x)\n",
    "\n",
    "        x = self.backbone.layer1(x)\n",
    "        x = self.backbone.layer2(x)\n",
    "        x = self.backbone.layer3(x)\n",
    "        x = self.backbone.layer4(x)\n",
    "\n",
    "        x = self.backbone.avgpool(x)\n",
    "        x = torch.flatten(x, 1)\n",
    "        \n",
    "        # adding other agent data to image data\n",
    "        x = torch.cat((x, agent_data), dim=1)\n",
    "\n",
    "        # fc with relu activation and dropout\n",
    "        x = self.dropout(F.relu(self.head(x)))\n",
    "        x = self.logit(x)\n",
    "\n",
    "        # pred (batch_size)x(modes)x(time)x(2D coords)\n",
    "        # confidences (batch_size)x(modes)\n",
    "        bs, _ = x.shape\n",
    "        pred, confidences = torch.split(x, self.num_preds, dim=1)\n",
    "        pred = pred.view(bs, self.num_modes, self.future_len, 2)\n",
    "        assert confidences.shape == (bs, self.num_modes)\n",
    "        confidences = torch.softmax(confidences, dim=1)\n",
    "        return pred, confidences"
   ]
  },
  {
   "cell_type": "markdown",
   "metadata": {
    "papermill": {
     "duration": 0.029952,
     "end_time": "2020-12-13T15:49:17.318224",
     "exception": false,
     "start_time": "2020-12-13T15:49:17.288272",
     "status": "completed"
    },
    "tags": []
   },
   "source": [
    "Add `compute_loss` flag to skip computing loss during prediction."
   ]
  },
  {
   "cell_type": "code",
   "execution_count": 13,
   "metadata": {
    "execution": {
     "iopub.execute_input": "2020-12-13T15:49:17.746598Z",
     "iopub.status.busy": "2020-12-13T15:49:17.743710Z",
     "iopub.status.idle": "2020-12-13T15:49:17.752135Z",
     "shell.execute_reply": "2020-12-13T15:49:17.752791Z"
    },
    "papermill": {
     "duration": 0.4042,
     "end_time": "2020-12-13T15:49:17.752976",
     "exception": false,
     "start_time": "2020-12-13T15:49:17.348776",
     "status": "completed"
    },
    "tags": []
   },
   "outputs": [
    {
     "name": "stdout",
     "output_type": "stream",
     "text": [
      "device cuda:0\n"
     ]
    }
   ],
   "source": [
    "def forward(data, model, device, criterion = pytorch_neg_multi_log_likelihood_batch):\n",
    "    inputs = data[\"image\"].to(device)\n",
    "    target_availabilities = data[\"target_availabilities\"].to(device)\n",
    "    targets = data[\"target_positions\"].to(device)\n",
    "    bs = inputs.shape[0]\n",
    "    history_positions = data['history_positions'].to(device).view(bs, -1)\n",
    "    # centroid = data['centroid'].to(device).float()\n",
    "    # yaw = data['yaw'].to(device).view(TRAIN_BATCH_SIZE, 1).float()\n",
    "    # agent_data = torch.cat((history_positions, centroid, yaw, extent), dim=1)\n",
    "    extent = data['extent'].to(device) / EXTENT_RANGE\n",
    "    agent_data = torch.cat((history_positions, extent), dim=1)\n",
    "    \n",
    "    # Forward pass\n",
    "    preds, confidences = model(inputs, agent_data)\n",
    "    loss = criterion(targets, preds, confidences, target_availabilities)\n",
    "    return loss, preds, confidences\n",
    "\n",
    "device = torch.device(\"cuda:0\" if torch.cuda.is_available() else \"cpu\")\n",
    "print(f'device {device}')\n",
    "\n"
   ]
  },
  {
   "cell_type": "markdown",
   "metadata": {
    "papermill": {
     "duration": 0.031751,
     "end_time": "2020-12-13T15:49:17.816281",
     "exception": false,
     "start_time": "2020-12-13T15:49:17.784530",
     "status": "completed"
    },
    "tags": []
   },
   "source": [
    "Now let us initialize the model and load the pretrained weights. Note that since the pretrained model was trained on GPU, you also need to enable GPU when running this notebook."
   ]
  },
  {
   "cell_type": "code",
   "execution_count": 14,
   "metadata": {
    "execution": {
     "iopub.execute_input": "2020-12-13T15:49:17.885000Z",
     "iopub.status.busy": "2020-12-13T15:49:17.884313Z",
     "iopub.status.idle": "2020-12-13T15:49:30.551543Z",
     "shell.execute_reply": "2020-12-13T15:49:30.550207Z"
    },
    "papermill": {
     "duration": 12.704379,
     "end_time": "2020-12-13T15:49:30.551677",
     "exception": false,
     "start_time": "2020-12-13T15:49:17.847298",
     "status": "completed"
    },
    "tags": []
   },
   "outputs": [
    {
     "name": "stderr",
     "output_type": "stream",
     "text": [
      "Downloading: \"https://download.pytorch.org/models/resnet34-333f7ec4.pth\" to /root/.cache/torch/hub/checkpoints/resnet34-333f7ec4.pth\n"
     ]
    },
    {
     "data": {
      "application/vnd.jupyter.widget-view+json": {
       "model_id": "0b8393394c58420ebf822f76ed29b01e",
       "version_major": 2,
       "version_minor": 0
      },
      "text/plain": [
       "HBox(children=(FloatProgress(value=0.0, max=87306240.0), HTML(value='')))"
      ]
     },
     "metadata": {},
     "output_type": "display_data"
    },
    {
     "name": "stdout",
     "output_type": "stream",
     "text": [
      "\n",
      "CPU times: user 2.46 s, sys: 1.4 s, total: 3.86 s\n",
      "Wall time: 12.7 s\n"
     ]
    }
   ],
   "source": [
    "%%time\n",
    "# ==== INIT MODEL=================\n",
    "\n",
    "red_factor = 0.8\n",
    "patience_steps = 1000 \n",
    "patience_threshold = 0.1 \n",
    "smoothing = 0.02\n",
    "model = LyftMultiModel(cfg)\n",
    "\n",
    "\n",
    "if not cfg[\"model_params\"][\"oldmodel_exists\"]:\n",
    "    model.to(device)\n",
    "else:\n",
    "    model.to(device)\n",
    "    model.load_state_dict(torch.load(\"../input/old-model/model_old.pth\"))\n",
    "    print('previous model loaded')\n",
    "    model.eval()\n",
    "    \n",
    "optimizer = optim.Adam(model.parameters(), lr=cfg[\"model_params\"][\"lr\"])\n",
    "scheduler = optim.lr_scheduler.ReduceLROnPlateau(optimizer, 'min', factor=red_factor, \n",
    "                                                patience=patience_steps, threshold= patience_threshold,\n",
    "                                                verbose= True)"
   ]
  },
  {
   "cell_type": "code",
   "execution_count": 15,
   "metadata": {
    "execution": {
     "iopub.execute_input": "2020-12-13T15:49:30.630190Z",
     "iopub.status.busy": "2020-12-13T15:49:30.627614Z",
     "iopub.status.idle": "2020-12-13T15:49:30.640109Z",
     "shell.execute_reply": "2020-12-13T15:49:30.639289Z"
    },
    "papermill": {
     "duration": 0.053349,
     "end_time": "2020-12-13T15:49:30.640257",
     "exception": false,
     "start_time": "2020-12-13T15:49:30.586908",
     "status": "completed"
    },
    "tags": []
   },
   "outputs": [
    {
     "name": "stdout",
     "output_type": "stream",
     "text": [
      "LyftMultiModel(\n",
      "  (backbone): ResNet(\n",
      "    (conv1): Conv2d(25, 64, kernel_size=(7, 7), stride=(2, 2), padding=(3, 3), bias=False)\n",
      "    (bn1): BatchNorm2d(64, eps=1e-05, momentum=0.1, affine=True, track_running_stats=True)\n",
      "    (relu): ReLU(inplace=True)\n",
      "    (maxpool): MaxPool2d(kernel_size=3, stride=2, padding=1, dilation=1, ceil_mode=False)\n",
      "    (layer1): Sequential(\n",
      "      (0): BasicBlock(\n",
      "        (conv1): Conv2d(64, 64, kernel_size=(3, 3), stride=(1, 1), padding=(1, 1), bias=False)\n",
      "        (bn1): BatchNorm2d(64, eps=1e-05, momentum=0.1, affine=True, track_running_stats=True)\n",
      "        (relu): ReLU(inplace=True)\n",
      "        (conv2): Conv2d(64, 64, kernel_size=(3, 3), stride=(1, 1), padding=(1, 1), bias=False)\n",
      "        (bn2): BatchNorm2d(64, eps=1e-05, momentum=0.1, affine=True, track_running_stats=True)\n",
      "      )\n",
      "      (1): BasicBlock(\n",
      "        (conv1): Conv2d(64, 64, kernel_size=(3, 3), stride=(1, 1), padding=(1, 1), bias=False)\n",
      "        (bn1): BatchNorm2d(64, eps=1e-05, momentum=0.1, affine=True, track_running_stats=True)\n",
      "        (relu): ReLU(inplace=True)\n",
      "        (conv2): Conv2d(64, 64, kernel_size=(3, 3), stride=(1, 1), padding=(1, 1), bias=False)\n",
      "        (bn2): BatchNorm2d(64, eps=1e-05, momentum=0.1, affine=True, track_running_stats=True)\n",
      "      )\n",
      "      (2): BasicBlock(\n",
      "        (conv1): Conv2d(64, 64, kernel_size=(3, 3), stride=(1, 1), padding=(1, 1), bias=False)\n",
      "        (bn1): BatchNorm2d(64, eps=1e-05, momentum=0.1, affine=True, track_running_stats=True)\n",
      "        (relu): ReLU(inplace=True)\n",
      "        (conv2): Conv2d(64, 64, kernel_size=(3, 3), stride=(1, 1), padding=(1, 1), bias=False)\n",
      "        (bn2): BatchNorm2d(64, eps=1e-05, momentum=0.1, affine=True, track_running_stats=True)\n",
      "      )\n",
      "    )\n",
      "    (layer2): Sequential(\n",
      "      (0): BasicBlock(\n",
      "        (conv1): Conv2d(64, 128, kernel_size=(3, 3), stride=(2, 2), padding=(1, 1), bias=False)\n",
      "        (bn1): BatchNorm2d(128, eps=1e-05, momentum=0.1, affine=True, track_running_stats=True)\n",
      "        (relu): ReLU(inplace=True)\n",
      "        (conv2): Conv2d(128, 128, kernel_size=(3, 3), stride=(1, 1), padding=(1, 1), bias=False)\n",
      "        (bn2): BatchNorm2d(128, eps=1e-05, momentum=0.1, affine=True, track_running_stats=True)\n",
      "        (downsample): Sequential(\n",
      "          (0): Conv2d(64, 128, kernel_size=(1, 1), stride=(2, 2), bias=False)\n",
      "          (1): BatchNorm2d(128, eps=1e-05, momentum=0.1, affine=True, track_running_stats=True)\n",
      "        )\n",
      "      )\n",
      "      (1): BasicBlock(\n",
      "        (conv1): Conv2d(128, 128, kernel_size=(3, 3), stride=(1, 1), padding=(1, 1), bias=False)\n",
      "        (bn1): BatchNorm2d(128, eps=1e-05, momentum=0.1, affine=True, track_running_stats=True)\n",
      "        (relu): ReLU(inplace=True)\n",
      "        (conv2): Conv2d(128, 128, kernel_size=(3, 3), stride=(1, 1), padding=(1, 1), bias=False)\n",
      "        (bn2): BatchNorm2d(128, eps=1e-05, momentum=0.1, affine=True, track_running_stats=True)\n",
      "      )\n",
      "      (2): BasicBlock(\n",
      "        (conv1): Conv2d(128, 128, kernel_size=(3, 3), stride=(1, 1), padding=(1, 1), bias=False)\n",
      "        (bn1): BatchNorm2d(128, eps=1e-05, momentum=0.1, affine=True, track_running_stats=True)\n",
      "        (relu): ReLU(inplace=True)\n",
      "        (conv2): Conv2d(128, 128, kernel_size=(3, 3), stride=(1, 1), padding=(1, 1), bias=False)\n",
      "        (bn2): BatchNorm2d(128, eps=1e-05, momentum=0.1, affine=True, track_running_stats=True)\n",
      "      )\n",
      "      (3): BasicBlock(\n",
      "        (conv1): Conv2d(128, 128, kernel_size=(3, 3), stride=(1, 1), padding=(1, 1), bias=False)\n",
      "        (bn1): BatchNorm2d(128, eps=1e-05, momentum=0.1, affine=True, track_running_stats=True)\n",
      "        (relu): ReLU(inplace=True)\n",
      "        (conv2): Conv2d(128, 128, kernel_size=(3, 3), stride=(1, 1), padding=(1, 1), bias=False)\n",
      "        (bn2): BatchNorm2d(128, eps=1e-05, momentum=0.1, affine=True, track_running_stats=True)\n",
      "      )\n",
      "    )\n",
      "    (layer3): Sequential(\n",
      "      (0): BasicBlock(\n",
      "        (conv1): Conv2d(128, 256, kernel_size=(3, 3), stride=(2, 2), padding=(1, 1), bias=False)\n",
      "        (bn1): BatchNorm2d(256, eps=1e-05, momentum=0.1, affine=True, track_running_stats=True)\n",
      "        (relu): ReLU(inplace=True)\n",
      "        (conv2): Conv2d(256, 256, kernel_size=(3, 3), stride=(1, 1), padding=(1, 1), bias=False)\n",
      "        (bn2): BatchNorm2d(256, eps=1e-05, momentum=0.1, affine=True, track_running_stats=True)\n",
      "        (downsample): Sequential(\n",
      "          (0): Conv2d(128, 256, kernel_size=(1, 1), stride=(2, 2), bias=False)\n",
      "          (1): BatchNorm2d(256, eps=1e-05, momentum=0.1, affine=True, track_running_stats=True)\n",
      "        )\n",
      "      )\n",
      "      (1): BasicBlock(\n",
      "        (conv1): Conv2d(256, 256, kernel_size=(3, 3), stride=(1, 1), padding=(1, 1), bias=False)\n",
      "        (bn1): BatchNorm2d(256, eps=1e-05, momentum=0.1, affine=True, track_running_stats=True)\n",
      "        (relu): ReLU(inplace=True)\n",
      "        (conv2): Conv2d(256, 256, kernel_size=(3, 3), stride=(1, 1), padding=(1, 1), bias=False)\n",
      "        (bn2): BatchNorm2d(256, eps=1e-05, momentum=0.1, affine=True, track_running_stats=True)\n",
      "      )\n",
      "      (2): BasicBlock(\n",
      "        (conv1): Conv2d(256, 256, kernel_size=(3, 3), stride=(1, 1), padding=(1, 1), bias=False)\n",
      "        (bn1): BatchNorm2d(256, eps=1e-05, momentum=0.1, affine=True, track_running_stats=True)\n",
      "        (relu): ReLU(inplace=True)\n",
      "        (conv2): Conv2d(256, 256, kernel_size=(3, 3), stride=(1, 1), padding=(1, 1), bias=False)\n",
      "        (bn2): BatchNorm2d(256, eps=1e-05, momentum=0.1, affine=True, track_running_stats=True)\n",
      "      )\n",
      "      (3): BasicBlock(\n",
      "        (conv1): Conv2d(256, 256, kernel_size=(3, 3), stride=(1, 1), padding=(1, 1), bias=False)\n",
      "        (bn1): BatchNorm2d(256, eps=1e-05, momentum=0.1, affine=True, track_running_stats=True)\n",
      "        (relu): ReLU(inplace=True)\n",
      "        (conv2): Conv2d(256, 256, kernel_size=(3, 3), stride=(1, 1), padding=(1, 1), bias=False)\n",
      "        (bn2): BatchNorm2d(256, eps=1e-05, momentum=0.1, affine=True, track_running_stats=True)\n",
      "      )\n",
      "      (4): BasicBlock(\n",
      "        (conv1): Conv2d(256, 256, kernel_size=(3, 3), stride=(1, 1), padding=(1, 1), bias=False)\n",
      "        (bn1): BatchNorm2d(256, eps=1e-05, momentum=0.1, affine=True, track_running_stats=True)\n",
      "        (relu): ReLU(inplace=True)\n",
      "        (conv2): Conv2d(256, 256, kernel_size=(3, 3), stride=(1, 1), padding=(1, 1), bias=False)\n",
      "        (bn2): BatchNorm2d(256, eps=1e-05, momentum=0.1, affine=True, track_running_stats=True)\n",
      "      )\n",
      "      (5): BasicBlock(\n",
      "        (conv1): Conv2d(256, 256, kernel_size=(3, 3), stride=(1, 1), padding=(1, 1), bias=False)\n",
      "        (bn1): BatchNorm2d(256, eps=1e-05, momentum=0.1, affine=True, track_running_stats=True)\n",
      "        (relu): ReLU(inplace=True)\n",
      "        (conv2): Conv2d(256, 256, kernel_size=(3, 3), stride=(1, 1), padding=(1, 1), bias=False)\n",
      "        (bn2): BatchNorm2d(256, eps=1e-05, momentum=0.1, affine=True, track_running_stats=True)\n",
      "      )\n",
      "    )\n",
      "    (layer4): Sequential(\n",
      "      (0): BasicBlock(\n",
      "        (conv1): Conv2d(256, 512, kernel_size=(3, 3), stride=(2, 2), padding=(1, 1), bias=False)\n",
      "        (bn1): BatchNorm2d(512, eps=1e-05, momentum=0.1, affine=True, track_running_stats=True)\n",
      "        (relu): ReLU(inplace=True)\n",
      "        (conv2): Conv2d(512, 512, kernel_size=(3, 3), stride=(1, 1), padding=(1, 1), bias=False)\n",
      "        (bn2): BatchNorm2d(512, eps=1e-05, momentum=0.1, affine=True, track_running_stats=True)\n",
      "        (downsample): Sequential(\n",
      "          (0): Conv2d(256, 512, kernel_size=(1, 1), stride=(2, 2), bias=False)\n",
      "          (1): BatchNorm2d(512, eps=1e-05, momentum=0.1, affine=True, track_running_stats=True)\n",
      "        )\n",
      "      )\n",
      "      (1): BasicBlock(\n",
      "        (conv1): Conv2d(512, 512, kernel_size=(3, 3), stride=(1, 1), padding=(1, 1), bias=False)\n",
      "        (bn1): BatchNorm2d(512, eps=1e-05, momentum=0.1, affine=True, track_running_stats=True)\n",
      "        (relu): ReLU(inplace=True)\n",
      "        (conv2): Conv2d(512, 512, kernel_size=(3, 3), stride=(1, 1), padding=(1, 1), bias=False)\n",
      "        (bn2): BatchNorm2d(512, eps=1e-05, momentum=0.1, affine=True, track_running_stats=True)\n",
      "      )\n",
      "      (2): BasicBlock(\n",
      "        (conv1): Conv2d(512, 512, kernel_size=(3, 3), stride=(1, 1), padding=(1, 1), bias=False)\n",
      "        (bn1): BatchNorm2d(512, eps=1e-05, momentum=0.1, affine=True, track_running_stats=True)\n",
      "        (relu): ReLU(inplace=True)\n",
      "        (conv2): Conv2d(512, 512, kernel_size=(3, 3), stride=(1, 1), padding=(1, 1), bias=False)\n",
      "        (bn2): BatchNorm2d(512, eps=1e-05, momentum=0.1, affine=True, track_running_stats=True)\n",
      "      )\n",
      "    )\n",
      "    (avgpool): AdaptiveAvgPool2d(output_size=(1, 1))\n",
      "    (fc): Linear(in_features=512, out_features=1000, bias=True)\n",
      "  )\n",
      "  (dropout): Dropout(p=0.3, inplace=False)\n",
      "  (head): Linear(in_features=537, out_features=1024, bias=True)\n",
      "  (logit): Linear(in_features=1024, out_features=303, bias=True)\n",
      ")\n"
     ]
    }
   ],
   "source": [
    "print(model)"
   ]
  },
  {
   "cell_type": "markdown",
   "metadata": {
    "papermill": {
     "duration": 0.034137,
     "end_time": "2020-12-13T15:49:30.720587",
     "exception": false,
     "start_time": "2020-12-13T15:49:30.686450",
     "status": "completed"
    },
    "tags": []
   },
   "source": [
    "# Training loop\n",
    "Next let us implement the training loop, when the **train** parameter is set to True. "
   ]
  },
  {
   "cell_type": "code",
   "execution_count": 16,
   "metadata": {
    "execution": {
     "iopub.execute_input": "2020-12-13T15:49:30.816397Z",
     "iopub.status.busy": "2020-12-13T15:49:30.815649Z",
     "iopub.status.idle": "2020-12-13T16:11:38.439877Z",
     "shell.execute_reply": "2020-12-13T16:11:38.367716Z"
    },
    "papermill": {
     "duration": 1327.684473,
     "end_time": "2020-12-13T16:11:38.440089",
     "exception": false,
     "start_time": "2020-12-13T15:49:30.755616",
     "status": "completed"
    },
    "tags": []
   },
   "outputs": [
    {
     "name": "stdout",
     "output_type": "stream",
     "text": [
      "TRAINING ABOUT TO START ... FROM  58000   BATCH AND FOR  500  BATCHES  WITH BATCH SIZE 32\n"
     ]
    },
    {
     "name": "stderr",
     "output_type": "stream",
     "text": [
      "loss: 69.13126373291016 loss(avg): 255.9616468257904: 100%|██████████| 500/500 [22:06<00:00,  2.65s/it]"
     ]
    },
    {
     "name": "stdout",
     "output_type": "stream",
     "text": [
      "Total training time is 22.10827091137568 mins\n",
      "   iterations  metrics (avg)  elapsed_time (mins)\n",
      "0       58000    2543.877197             0.356878\n",
      "1       58100     749.306611             4.931253\n",
      "2       58200     466.810766             9.311434\n",
      "3       58300     356.702314            13.523203\n",
      "4       58400     296.073182            17.955013\n"
     ]
    },
    {
     "name": "stderr",
     "output_type": "stream",
     "text": [
      "\n"
     ]
    }
   ],
   "source": [
    "print('TRAINING ABOUT TO START ... FROM ', TRAIN_START_INDICES, \n",
    "      '  BATCH AND FOR ', cfg['train_params']['max_num_steps'], ' BATCHES', ' WITH BATCH SIZE', TRAIN_BATCH_SIZE)\n",
    "\n",
    "# ==== TRAINING LOOP =========================================================\n",
    "if cfg[\"model_params\"][\"train\"]:\n",
    "    \n",
    "    tr_it = iter(train_dataloader)\n",
    "    progress_bar = tqdm(range(TRAIN_START_INDICES, \n",
    "                              TRAIN_START_INDICES + cfg[\"train_params\"][\"max_num_steps\"]))\n",
    "    num_iter = cfg[\"train_params\"][\"max_num_steps\"]\n",
    "    losses_train = []\n",
    "    smooth_losses = []\n",
    "    lr_list = []\n",
    "    iterations = []\n",
    "    metrics = []\n",
    "    times = []\n",
    "    model_name = cfg[\"model_params\"][\"model_name\"]\n",
    "    start = time.time()\n",
    "    iteration = 0\n",
    "    \n",
    "    for i in progress_bar:\n",
    "        try:\n",
    "            data = next(tr_it)\n",
    "        except StopIteration:\n",
    "            tr_it = iter(train_dataloader)\n",
    "            data = next(tr_it)\n",
    "        \n",
    "        # Forward pass\n",
    "        model.train()\n",
    "        torch.set_grad_enabled(True)\n",
    "        loss, _, _ = forward(data, model, device)\n",
    "\n",
    "        # Backward pass\n",
    "        optimizer.zero_grad()\n",
    "        loss.backward()\n",
    "        optimizer.step()\n",
    "        losses_train.append(loss.item())\n",
    "\n",
    "        progress_bar.set_description(f\"loss: {loss.item()} loss(avg): {np.mean(losses_train)}\")\n",
    "        if i % cfg['train_params']['checkpoint_every_n_steps'] == 0:\n",
    "            sample_number = i * cfg['train_data_loader']['batch_size']            \n",
    "            state = {\n",
    "              'state_dict': model.state_dict(),\n",
    "              'optimizer': optimizer.state_dict(),\n",
    "              'scheduler' : scheduler\n",
    "            }\n",
    "            torch.save(state, f'{model_name}_{sample_number}k.pth')\n",
    "            iterations.append(i)\n",
    "            metrics.append(np.mean(losses_train))\n",
    "            times.append((time.time()-start)/60)\n",
    "            \n",
    "        # smooth the loss\n",
    "        if i== TRAIN_START_INDICES:\n",
    "            smooth_losses.append(loss.item())\n",
    "        else:\n",
    "            smooth_losses.append(smoothing  * loss.item() + (1 - smoothing) * smooth_losses[-1])\n",
    "    \n",
    "        scheduler.step(smooth_losses[-1])\n",
    "        lr_list.append(optimizer.state_dict()[\"param_groups\"][0][\"lr\"])\n",
    "\n",
    "    sample_number = i * cfg['train_data_loader']['batch_size']\n",
    "    results = pd.DataFrame({'iterations': iterations, 'metrics (avg)': metrics, 'elapsed_time (mins)': times})\n",
    "    print(f\"Total training time is {(time.time()-start)/60} mins\")\n",
    "    print(results.head())"
   ]
  },
  {
   "cell_type": "markdown",
   "metadata": {
    "papermill": {
     "duration": 2.897285,
     "end_time": "2020-12-13T16:11:44.718755",
     "exception": false,
     "start_time": "2020-12-13T16:11:41.821470",
     "status": "completed"
    },
    "tags": []
   },
   "source": [
    "# Prediction\n",
    "\n",
    "Finally we implement the inference to submit to Kaggle when **predict** param is set to True."
   ]
  },
  {
   "cell_type": "code",
   "execution_count": 17,
   "metadata": {
    "execution": {
     "iopub.execute_input": "2020-12-13T16:11:51.507582Z",
     "iopub.status.busy": "2020-12-13T16:11:51.489293Z",
     "iopub.status.idle": "2020-12-13T16:11:53.688215Z",
     "shell.execute_reply": "2020-12-13T16:11:53.687352Z"
    },
    "papermill": {
     "duration": 5.713209,
     "end_time": "2020-12-13T16:11:53.688405",
     "exception": false,
     "start_time": "2020-12-13T16:11:47.975196",
     "status": "completed"
    },
    "tags": []
   },
   "outputs": [],
   "source": [
    "torch.save(model.state_dict(), 'mymodel.pth')"
   ]
  },
  {
   "cell_type": "code",
   "execution_count": 18,
   "metadata": {
    "execution": {
     "iopub.execute_input": "2020-12-13T16:11:56.404870Z",
     "iopub.status.busy": "2020-12-13T16:11:56.403593Z",
     "iopub.status.idle": "2020-12-13T17:49:36.309049Z",
     "shell.execute_reply": "2020-12-13T17:49:36.308347Z"
    },
    "papermill": {
     "duration": 5860.310685,
     "end_time": "2020-12-13T17:49:36.309175",
     "exception": false,
     "start_time": "2020-12-13T16:11:55.998490",
     "status": "completed"
    },
    "tags": []
   },
   "outputs": [
    {
     "data": {
      "application/vnd.jupyter.widget-view+json": {
       "model_id": "b24020b19a7c4dee8c9c6765c2e5e02c",
       "version_major": 2,
       "version_minor": 0
      },
      "text/plain": [
       "HBox(children=(FloatProgress(value=0.0, max=2223.0), HTML(value='')))"
      ]
     },
     "metadata": {},
     "output_type": "display_data"
    },
    {
     "name": "stdout",
     "output_type": "stream",
     "text": [
      "   0   0.16mins | Physical memory: 7.06 GB (used), 8.59 GB (available) / 15.64 GB\n",
      "  50   2.33mins | Physical memory: 7.07 GB (used), 8.58 GB (available) / 15.64 GB\n",
      " 100   4.53mins | Physical memory: 7.11 GB (used), 8.53 GB (available) / 15.64 GB\n",
      " 150   6.70mins | Physical memory: 7.14 GB (used), 8.50 GB (available) / 15.64 GB\n",
      " 200   8.95mins | Physical memory: 7.15 GB (used), 8.50 GB (available) / 15.64 GB\n",
      " 250  11.11mins | Physical memory: 6.92 GB (used), 8.72 GB (available) / 15.64 GB\n",
      " 300  13.34mins | Physical memory: 7.10 GB (used), 8.54 GB (available) / 15.64 GB\n",
      " 350  15.51mins | Physical memory: 7.01 GB (used), 8.63 GB (available) / 15.64 GB\n",
      " 400  17.77mins | Physical memory: 7.17 GB (used), 8.48 GB (available) / 15.64 GB\n",
      " 450  20.01mins | Physical memory: 7.01 GB (used), 8.63 GB (available) / 15.64 GB\n",
      " 500  22.28mins | Physical memory: 7.06 GB (used), 8.59 GB (available) / 15.64 GB\n",
      " 550  24.60mins | Physical memory: 7.27 GB (used), 8.37 GB (available) / 15.64 GB\n",
      " 600  26.78mins | Physical memory: 7.11 GB (used), 8.53 GB (available) / 15.64 GB\n",
      " 650  29.02mins | Physical memory: 7.24 GB (used), 8.40 GB (available) / 15.64 GB\n",
      " 700  31.26mins | Physical memory: 7.15 GB (used), 8.49 GB (available) / 15.64 GB\n",
      " 750  33.57mins | Physical memory: 7.14 GB (used), 8.51 GB (available) / 15.64 GB\n",
      " 800  35.81mins | Physical memory: 7.00 GB (used), 8.65 GB (available) / 15.64 GB\n",
      " 850  38.08mins | Physical memory: 7.20 GB (used), 8.45 GB (available) / 15.64 GB\n",
      " 900  40.40mins | Physical memory: 7.27 GB (used), 8.37 GB (available) / 15.64 GB\n",
      " 950  42.57mins | Physical memory: 7.06 GB (used), 8.58 GB (available) / 15.64 GB\n",
      "1000  44.92mins | Physical memory: 7.25 GB (used), 8.39 GB (available) / 15.64 GB\n",
      "1050  47.17mins | Physical memory: 7.18 GB (used), 8.47 GB (available) / 15.64 GB\n",
      "1100  49.54mins | Physical memory: 7.22 GB (used), 8.42 GB (available) / 15.64 GB\n",
      "1150  51.80mins | Physical memory: 7.24 GB (used), 8.40 GB (available) / 15.64 GB\n",
      "1200  54.05mins | Physical memory: 7.07 GB (used), 8.58 GB (available) / 15.64 GB\n",
      "1250  56.36mins | Physical memory: 7.06 GB (used), 8.59 GB (available) / 15.64 GB\n",
      "1300  58.68mins | Physical memory: 7.07 GB (used), 8.57 GB (available) / 15.64 GB\n",
      "1350  60.94mins | Physical memory: 6.98 GB (used), 8.66 GB (available) / 15.64 GB\n",
      "1400  63.28mins | Physical memory: 7.41 GB (used), 8.23 GB (available) / 15.64 GB\n",
      "1450  65.32mins | Physical memory: 7.21 GB (used), 8.43 GB (available) / 15.64 GB\n",
      "1500  67.42mins | Physical memory: 7.34 GB (used), 8.30 GB (available) / 15.64 GB\n",
      "1550  69.66mins | Physical memory: 7.24 GB (used), 8.40 GB (available) / 15.64 GB\n",
      "1600  71.85mins | Physical memory: 7.20 GB (used), 8.45 GB (available) / 15.64 GB\n",
      "1650  74.01mins | Physical memory: 7.24 GB (used), 8.40 GB (available) / 15.64 GB\n",
      "1700  76.10mins | Physical memory: 7.00 GB (used), 8.64 GB (available) / 15.64 GB\n",
      "1750  78.25mins | Physical memory: 7.35 GB (used), 8.30 GB (available) / 15.64 GB\n",
      "1800  80.30mins | Physical memory: 7.11 GB (used), 8.53 GB (available) / 15.64 GB\n",
      "1850  82.49mins | Physical memory: 7.40 GB (used), 8.24 GB (available) / 15.64 GB\n",
      "1900  84.55mins | Physical memory: 7.03 GB (used), 8.61 GB (available) / 15.64 GB\n",
      "1950  86.72mins | Physical memory: 7.42 GB (used), 8.22 GB (available) / 15.64 GB\n",
      "2000  88.75mins | Physical memory: 7.05 GB (used), 8.59 GB (available) / 15.64 GB\n",
      "2050  90.82mins | Physical memory: 7.16 GB (used), 8.48 GB (available) / 15.64 GB\n",
      "2100  92.81mins | Physical memory: 7.04 GB (used), 8.61 GB (available) / 15.64 GB\n",
      "2150  94.89mins | Physical memory: 7.08 GB (used), 8.57 GB (available) / 15.64 GB\n",
      "2200  96.90mins | Physical memory: 7.32 GB (used), 8.33 GB (available) / 15.64 GB\n",
      "\n"
     ]
    }
   ],
   "source": [
    "model.eval()\n",
    "torch.set_grad_enabled(False)\n",
    "\n",
    "# store information for evaluation\n",
    "future_coords_offsets_pd = []\n",
    "timestamps = []\n",
    "confidences_list = []\n",
    "agent_ids = []\n",
    "memorys_pred = []\n",
    "t0 = time.time()\n",
    "times_pred = []\n",
    "iterations_pred = []\n",
    "\n",
    "for i, data in enumerate(tqdm_notebook(test_dataloader, mininterval=5.)):\n",
    "        _, preds, confidences = forward(data, model, device)\n",
    "        preds = torch.einsum('bmti,bji->bmtj', \n",
    "                                preds.double(), \n",
    "                                data[\"world_from_agent\"].to(device)[:, :2, :2]).cpu().numpy()\n",
    "        future_coords_offsets_pd.append(preds.copy())\n",
    "        confidences_list.append(confidences.cpu().numpy().copy())\n",
    "        timestamps.append(data[\"timestamp\"].numpy().copy())\n",
    "        agent_ids.append(data[\"track_id\"].numpy().copy()) \n",
    "        \n",
    "        if i%50 == 0:\n",
    "            t = ((time.time() - t0) / 60)\n",
    "            print('%4d'%i, '%6.2fmins'%t, end=' | ')\n",
    "            mem = memory()\n",
    "            iterations_pred.append(i)\n",
    "            memorys_pred.append(mem)\n",
    "            times_pred.append(t)\n",
    "#             if i > 0:\n",
    "#                 break"
   ]
  },
  {
   "cell_type": "code",
   "execution_count": 19,
   "metadata": {
    "execution": {
     "iopub.execute_input": "2020-12-13T17:49:37.215451Z",
     "iopub.status.busy": "2020-12-13T17:49:37.214616Z",
     "iopub.status.idle": "2020-12-13T17:50:13.959331Z",
     "shell.execute_reply": "2020-12-13T17:50:13.960205Z"
    },
    "papermill": {
     "duration": 37.211274,
     "end_time": "2020-12-13T17:50:13.960414",
     "exception": false,
     "start_time": "2020-12-13T17:49:36.749140",
     "status": "completed"
    },
    "tags": []
   },
   "outputs": [
    {
     "name": "stdout",
     "output_type": "stream",
     "text": [
      "CPU times: user 34.6 s, sys: 1.63 s, total: 36.2 s\n",
      "Wall time: 36.4 s\n"
     ]
    }
   ],
   "source": [
    "%%time\n",
    "# create submission to submit to Kaggle\n",
    "pred_path = 'submission.csv'\n",
    "write_pred_csv(\n",
    "    pred_path,\n",
    "    timestamps=np.concatenate(timestamps),\n",
    "    track_ids=np.concatenate(agent_ids),\n",
    "    coords=np.concatenate(future_coords_offsets_pd),\n",
    "    confs=np.concatenate(confidences_list),\n",
    ")"
   ]
  },
  {
   "cell_type": "code",
   "execution_count": 20,
   "metadata": {
    "execution": {
     "iopub.execute_input": "2020-12-13T17:50:14.734623Z",
     "iopub.status.busy": "2020-12-13T17:50:14.733983Z",
     "iopub.status.idle": "2020-12-13T17:50:14.738399Z",
     "shell.execute_reply": "2020-12-13T17:50:14.737892Z"
    },
    "papermill": {
     "duration": 0.391515,
     "end_time": "2020-12-13T17:50:14.738494",
     "exception": false,
     "start_time": "2020-12-13T17:50:14.346979",
     "status": "completed"
    },
    "tags": []
   },
   "outputs": [],
   "source": [
    "# import json\n",
    "# token = {\"username\": \"logaritm\", \"key\": \"668a201120b5a2d1caef6ea7162cb87f\"}\n",
    "# with open('/content/.kaggle/kaggle.json', 'w') as file:\n",
    "#     json.dump(token, file)"
   ]
  },
  {
   "cell_type": "code",
   "execution_count": 21,
   "metadata": {
    "execution": {
     "iopub.execute_input": "2020-12-13T17:50:15.509437Z",
     "iopub.status.busy": "2020-12-13T17:50:15.508783Z",
     "iopub.status.idle": "2020-12-13T17:50:15.512471Z",
     "shell.execute_reply": "2020-12-13T17:50:15.512953Z"
    },
    "papermill": {
     "duration": 0.391969,
     "end_time": "2020-12-13T17:50:15.513097",
     "exception": false,
     "start_time": "2020-12-13T17:50:15.121128",
     "status": "completed"
    },
    "tags": []
   },
   "outputs": [],
   "source": [
    "# !cp /content/.kaggle/kaggle.json ~/.kaggle/kaggle.json"
   ]
  },
  {
   "cell_type": "code",
   "execution_count": 22,
   "metadata": {
    "execution": {
     "iopub.execute_input": "2020-12-13T17:50:16.290219Z",
     "iopub.status.busy": "2020-12-13T17:50:16.289538Z",
     "iopub.status.idle": "2020-12-13T17:50:16.293629Z",
     "shell.execute_reply": "2020-12-13T17:50:16.293070Z"
    },
    "papermill": {
     "duration": 0.389772,
     "end_time": "2020-12-13T17:50:16.293737",
     "exception": false,
     "start_time": "2020-12-13T17:50:15.903965",
     "status": "completed"
    },
    "tags": []
   },
   "outputs": [],
   "source": [
    "# !kaggle config set -n path -v{/content}"
   ]
  },
  {
   "cell_type": "code",
   "execution_count": 23,
   "metadata": {
    "execution": {
     "iopub.execute_input": "2020-12-13T17:50:17.063703Z",
     "iopub.status.busy": "2020-12-13T17:50:17.062990Z",
     "iopub.status.idle": "2020-12-13T17:50:17.067392Z",
     "shell.execute_reply": "2020-12-13T17:50:17.066768Z"
    },
    "papermill": {
     "duration": 0.389823,
     "end_time": "2020-12-13T17:50:17.067504",
     "exception": false,
     "start_time": "2020-12-13T17:50:16.677681",
     "status": "completed"
    },
    "tags": []
   },
   "outputs": [],
   "source": [
    "# !chmod 600 ~/.kaggle/kaggle.json"
   ]
  },
  {
   "cell_type": "code",
   "execution_count": 24,
   "metadata": {
    "execution": {
     "iopub.execute_input": "2020-12-13T17:50:17.841672Z",
     "iopub.status.busy": "2020-12-13T17:50:17.840846Z",
     "iopub.status.idle": "2020-12-13T17:50:17.844084Z",
     "shell.execute_reply": "2020-12-13T17:50:17.844552Z"
    },
    "papermill": {
     "duration": 0.391993,
     "end_time": "2020-12-13T17:50:17.844748",
     "exception": false,
     "start_time": "2020-12-13T17:50:17.452755",
     "status": "completed"
    },
    "tags": []
   },
   "outputs": [],
   "source": [
    "# !kaggle competitions submit -c new-york-city-taxi-fare-prediction -f sample_submission.csv -m \"Sample submission test\""
   ]
  },
  {
   "cell_type": "markdown",
   "metadata": {
    "papermill": {
     "duration": 0.381551,
     "end_time": "2020-12-13T17:50:18.609785",
     "exception": false,
     "start_time": "2020-12-13T17:50:18.228234",
     "status": "completed"
    },
    "tags": []
   },
   "source": [
    "## Examine submission"
   ]
  },
  {
   "cell_type": "markdown",
   "metadata": {
    "papermill": {
     "duration": 0.395189,
     "end_time": "2020-12-13T17:50:19.387122",
     "exception": false,
     "start_time": "2020-12-13T17:50:18.991933",
     "status": "completed"
    },
    "tags": []
   },
   "source": [
    "## Our model"
   ]
  }
 ],
 "metadata": {
  "kernelspec": {
   "display_name": "Python 3",
   "language": "python",
   "name": "python3"
  },
  "language_info": {
   "codemirror_mode": {
    "name": "ipython",
    "version": 3
   },
   "file_extension": ".py",
   "mimetype": "text/x-python",
   "name": "python",
   "nbconvert_exporter": "python",
   "pygments_lexer": "ipython3",
   "version": "3.6.5"
  },
  "papermill": {
   "duration": 7586.346618,
   "end_time": "2020-12-13T17:50:20.501229",
   "environment_variables": {},
   "exception": null,
   "input_path": "__notebook__.ipynb",
   "output_path": "__notebook__.ipynb",
   "parameters": {},
   "start_time": "2020-12-13T15:43:54.154611",
   "version": "2.1.0"
  },
  "widgets": {
   "application/vnd.jupyter.widget-state+json": {
    "state": {
     "0b8393394c58420ebf822f76ed29b01e": {
      "model_module": "@jupyter-widgets/controls",
      "model_module_version": "1.5.0",
      "model_name": "HBoxModel",
      "state": {
       "_dom_classes": [],
       "_model_module": "@jupyter-widgets/controls",
       "_model_module_version": "1.5.0",
       "_model_name": "HBoxModel",
       "_view_count": null,
       "_view_module": "@jupyter-widgets/controls",
       "_view_module_version": "1.5.0",
       "_view_name": "HBoxView",
       "box_style": "",
       "children": [
        "IPY_MODEL_36efd69576944968a1108170e4addd4f",
        "IPY_MODEL_a53ed759c7c84676a50c35e424f09d6d"
       ],
       "layout": "IPY_MODEL_fddac40d349b4f6d97f586b4857fc815"
      }
     },
     "3344aed7630e40d28cff020fb5b550aa": {
      "model_module": "@jupyter-widgets/base",
      "model_module_version": "1.2.0",
      "model_name": "LayoutModel",
      "state": {
       "_model_module": "@jupyter-widgets/base",
       "_model_module_version": "1.2.0",
       "_model_name": "LayoutModel",
       "_view_count": null,
       "_view_module": "@jupyter-widgets/base",
       "_view_module_version": "1.2.0",
       "_view_name": "LayoutView",
       "align_content": null,
       "align_items": null,
       "align_self": null,
       "border": null,
       "bottom": null,
       "display": null,
       "flex": null,
       "flex_flow": null,
       "grid_area": null,
       "grid_auto_columns": null,
       "grid_auto_flow": null,
       "grid_auto_rows": null,
       "grid_column": null,
       "grid_gap": null,
       "grid_row": null,
       "grid_template_areas": null,
       "grid_template_columns": null,
       "grid_template_rows": null,
       "height": null,
       "justify_content": null,
       "justify_items": null,
       "left": null,
       "margin": null,
       "max_height": null,
       "max_width": null,
       "min_height": null,
       "min_width": null,
       "object_fit": null,
       "object_position": null,
       "order": null,
       "overflow": null,
       "overflow_x": null,
       "overflow_y": null,
       "padding": null,
       "right": null,
       "top": null,
       "visibility": null,
       "width": null
      }
     },
     "36efd69576944968a1108170e4addd4f": {
      "model_module": "@jupyter-widgets/controls",
      "model_module_version": "1.5.0",
      "model_name": "FloatProgressModel",
      "state": {
       "_dom_classes": [],
       "_model_module": "@jupyter-widgets/controls",
       "_model_module_version": "1.5.0",
       "_model_name": "FloatProgressModel",
       "_view_count": null,
       "_view_module": "@jupyter-widgets/controls",
       "_view_module_version": "1.5.0",
       "_view_name": "ProgressView",
       "bar_style": "success",
       "description": "100%",
       "description_tooltip": null,
       "layout": "IPY_MODEL_8e9acd3f91864794aaddc499121eb36e",
       "max": 87306240,
       "min": 0,
       "orientation": "horizontal",
       "style": "IPY_MODEL_dec3531748cc48b69ab54abed47ca09b",
       "value": 87306240
      }
     },
     "4829b32b927c482ca3f61c6d55fa4b8d": {
      "model_module": "@jupyter-widgets/controls",
      "model_module_version": "1.5.0",
      "model_name": "HTMLModel",
      "state": {
       "_dom_classes": [],
       "_model_module": "@jupyter-widgets/controls",
       "_model_module_version": "1.5.0",
       "_model_name": "HTMLModel",
       "_view_count": null,
       "_view_module": "@jupyter-widgets/controls",
       "_view_module_version": "1.5.0",
       "_view_name": "HTMLView",
       "description": "",
       "description_tooltip": null,
       "layout": "IPY_MODEL_ab546a302c3546c2afada0d9efea9d72",
       "placeholder": "​",
       "style": "IPY_MODEL_50a7f8ecd3f34ee48f07a52b925ec433",
       "value": " 2223/2223 [1:37:39&lt;00:00,  2.64s/it]"
      }
     },
     "50a7f8ecd3f34ee48f07a52b925ec433": {
      "model_module": "@jupyter-widgets/controls",
      "model_module_version": "1.5.0",
      "model_name": "DescriptionStyleModel",
      "state": {
       "_model_module": "@jupyter-widgets/controls",
       "_model_module_version": "1.5.0",
       "_model_name": "DescriptionStyleModel",
       "_view_count": null,
       "_view_module": "@jupyter-widgets/base",
       "_view_module_version": "1.2.0",
       "_view_name": "StyleView",
       "description_width": ""
      }
     },
     "72ec910fd8de4ba889920039132d6c55": {
      "model_module": "@jupyter-widgets/controls",
      "model_module_version": "1.5.0",
      "model_name": "FloatProgressModel",
      "state": {
       "_dom_classes": [],
       "_model_module": "@jupyter-widgets/controls",
       "_model_module_version": "1.5.0",
       "_model_name": "FloatProgressModel",
       "_view_count": null,
       "_view_module": "@jupyter-widgets/controls",
       "_view_module_version": "1.5.0",
       "_view_name": "ProgressView",
       "bar_style": "success",
       "description": "100%",
       "description_tooltip": null,
       "layout": "IPY_MODEL_7cb384b545ba4f2eba2a6a3e07eca8a1",
       "max": 2223,
       "min": 0,
       "orientation": "horizontal",
       "style": "IPY_MODEL_8ae852b644034837a2ba5fa813c9dc13",
       "value": 2223
      }
     },
     "7cb384b545ba4f2eba2a6a3e07eca8a1": {
      "model_module": "@jupyter-widgets/base",
      "model_module_version": "1.2.0",
      "model_name": "LayoutModel",
      "state": {
       "_model_module": "@jupyter-widgets/base",
       "_model_module_version": "1.2.0",
       "_model_name": "LayoutModel",
       "_view_count": null,
       "_view_module": "@jupyter-widgets/base",
       "_view_module_version": "1.2.0",
       "_view_name": "LayoutView",
       "align_content": null,
       "align_items": null,
       "align_self": null,
       "border": null,
       "bottom": null,
       "display": null,
       "flex": null,
       "flex_flow": null,
       "grid_area": null,
       "grid_auto_columns": null,
       "grid_auto_flow": null,
       "grid_auto_rows": null,
       "grid_column": null,
       "grid_gap": null,
       "grid_row": null,
       "grid_template_areas": null,
       "grid_template_columns": null,
       "grid_template_rows": null,
       "height": null,
       "justify_content": null,
       "justify_items": null,
       "left": null,
       "margin": null,
       "max_height": null,
       "max_width": null,
       "min_height": null,
       "min_width": null,
       "object_fit": null,
       "object_position": null,
       "order": null,
       "overflow": null,
       "overflow_x": null,
       "overflow_y": null,
       "padding": null,
       "right": null,
       "top": null,
       "visibility": null,
       "width": null
      }
     },
     "8ae852b644034837a2ba5fa813c9dc13": {
      "model_module": "@jupyter-widgets/controls",
      "model_module_version": "1.5.0",
      "model_name": "ProgressStyleModel",
      "state": {
       "_model_module": "@jupyter-widgets/controls",
       "_model_module_version": "1.5.0",
       "_model_name": "ProgressStyleModel",
       "_view_count": null,
       "_view_module": "@jupyter-widgets/base",
       "_view_module_version": "1.2.0",
       "_view_name": "StyleView",
       "bar_color": null,
       "description_width": "initial"
      }
     },
     "8e9acd3f91864794aaddc499121eb36e": {
      "model_module": "@jupyter-widgets/base",
      "model_module_version": "1.2.0",
      "model_name": "LayoutModel",
      "state": {
       "_model_module": "@jupyter-widgets/base",
       "_model_module_version": "1.2.0",
       "_model_name": "LayoutModel",
       "_view_count": null,
       "_view_module": "@jupyter-widgets/base",
       "_view_module_version": "1.2.0",
       "_view_name": "LayoutView",
       "align_content": null,
       "align_items": null,
       "align_self": null,
       "border": null,
       "bottom": null,
       "display": null,
       "flex": null,
       "flex_flow": null,
       "grid_area": null,
       "grid_auto_columns": null,
       "grid_auto_flow": null,
       "grid_auto_rows": null,
       "grid_column": null,
       "grid_gap": null,
       "grid_row": null,
       "grid_template_areas": null,
       "grid_template_columns": null,
       "grid_template_rows": null,
       "height": null,
       "justify_content": null,
       "justify_items": null,
       "left": null,
       "margin": null,
       "max_height": null,
       "max_width": null,
       "min_height": null,
       "min_width": null,
       "object_fit": null,
       "object_position": null,
       "order": null,
       "overflow": null,
       "overflow_x": null,
       "overflow_y": null,
       "padding": null,
       "right": null,
       "top": null,
       "visibility": null,
       "width": null
      }
     },
     "a4c4515b6f984f89bf41017789836a97": {
      "model_module": "@jupyter-widgets/controls",
      "model_module_version": "1.5.0",
      "model_name": "DescriptionStyleModel",
      "state": {
       "_model_module": "@jupyter-widgets/controls",
       "_model_module_version": "1.5.0",
       "_model_name": "DescriptionStyleModel",
       "_view_count": null,
       "_view_module": "@jupyter-widgets/base",
       "_view_module_version": "1.2.0",
       "_view_name": "StyleView",
       "description_width": ""
      }
     },
     "a53ed759c7c84676a50c35e424f09d6d": {
      "model_module": "@jupyter-widgets/controls",
      "model_module_version": "1.5.0",
      "model_name": "HTMLModel",
      "state": {
       "_dom_classes": [],
       "_model_module": "@jupyter-widgets/controls",
       "_model_module_version": "1.5.0",
       "_model_name": "HTMLModel",
       "_view_count": null,
       "_view_module": "@jupyter-widgets/controls",
       "_view_module_version": "1.5.0",
       "_view_name": "HTMLView",
       "description": "",
       "description_tooltip": null,
       "layout": "IPY_MODEL_3344aed7630e40d28cff020fb5b550aa",
       "placeholder": "​",
       "style": "IPY_MODEL_a4c4515b6f984f89bf41017789836a97",
       "value": " 83.3M/83.3M [00:26&lt;00:00, 3.24MB/s]"
      }
     },
     "a765e276279642d781f9dde480228e6a": {
      "model_module": "@jupyter-widgets/base",
      "model_module_version": "1.2.0",
      "model_name": "LayoutModel",
      "state": {
       "_model_module": "@jupyter-widgets/base",
       "_model_module_version": "1.2.0",
       "_model_name": "LayoutModel",
       "_view_count": null,
       "_view_module": "@jupyter-widgets/base",
       "_view_module_version": "1.2.0",
       "_view_name": "LayoutView",
       "align_content": null,
       "align_items": null,
       "align_self": null,
       "border": null,
       "bottom": null,
       "display": null,
       "flex": null,
       "flex_flow": null,
       "grid_area": null,
       "grid_auto_columns": null,
       "grid_auto_flow": null,
       "grid_auto_rows": null,
       "grid_column": null,
       "grid_gap": null,
       "grid_row": null,
       "grid_template_areas": null,
       "grid_template_columns": null,
       "grid_template_rows": null,
       "height": null,
       "justify_content": null,
       "justify_items": null,
       "left": null,
       "margin": null,
       "max_height": null,
       "max_width": null,
       "min_height": null,
       "min_width": null,
       "object_fit": null,
       "object_position": null,
       "order": null,
       "overflow": null,
       "overflow_x": null,
       "overflow_y": null,
       "padding": null,
       "right": null,
       "top": null,
       "visibility": null,
       "width": null
      }
     },
     "ab546a302c3546c2afada0d9efea9d72": {
      "model_module": "@jupyter-widgets/base",
      "model_module_version": "1.2.0",
      "model_name": "LayoutModel",
      "state": {
       "_model_module": "@jupyter-widgets/base",
       "_model_module_version": "1.2.0",
       "_model_name": "LayoutModel",
       "_view_count": null,
       "_view_module": "@jupyter-widgets/base",
       "_view_module_version": "1.2.0",
       "_view_name": "LayoutView",
       "align_content": null,
       "align_items": null,
       "align_self": null,
       "border": null,
       "bottom": null,
       "display": null,
       "flex": null,
       "flex_flow": null,
       "grid_area": null,
       "grid_auto_columns": null,
       "grid_auto_flow": null,
       "grid_auto_rows": null,
       "grid_column": null,
       "grid_gap": null,
       "grid_row": null,
       "grid_template_areas": null,
       "grid_template_columns": null,
       "grid_template_rows": null,
       "height": null,
       "justify_content": null,
       "justify_items": null,
       "left": null,
       "margin": null,
       "max_height": null,
       "max_width": null,
       "min_height": null,
       "min_width": null,
       "object_fit": null,
       "object_position": null,
       "order": null,
       "overflow": null,
       "overflow_x": null,
       "overflow_y": null,
       "padding": null,
       "right": null,
       "top": null,
       "visibility": null,
       "width": null
      }
     },
     "b24020b19a7c4dee8c9c6765c2e5e02c": {
      "model_module": "@jupyter-widgets/controls",
      "model_module_version": "1.5.0",
      "model_name": "HBoxModel",
      "state": {
       "_dom_classes": [],
       "_model_module": "@jupyter-widgets/controls",
       "_model_module_version": "1.5.0",
       "_model_name": "HBoxModel",
       "_view_count": null,
       "_view_module": "@jupyter-widgets/controls",
       "_view_module_version": "1.5.0",
       "_view_name": "HBoxView",
       "box_style": "",
       "children": [
        "IPY_MODEL_72ec910fd8de4ba889920039132d6c55",
        "IPY_MODEL_4829b32b927c482ca3f61c6d55fa4b8d"
       ],
       "layout": "IPY_MODEL_a765e276279642d781f9dde480228e6a"
      }
     },
     "dec3531748cc48b69ab54abed47ca09b": {
      "model_module": "@jupyter-widgets/controls",
      "model_module_version": "1.5.0",
      "model_name": "ProgressStyleModel",
      "state": {
       "_model_module": "@jupyter-widgets/controls",
       "_model_module_version": "1.5.0",
       "_model_name": "ProgressStyleModel",
       "_view_count": null,
       "_view_module": "@jupyter-widgets/base",
       "_view_module_version": "1.2.0",
       "_view_name": "StyleView",
       "bar_color": null,
       "description_width": "initial"
      }
     },
     "fddac40d349b4f6d97f586b4857fc815": {
      "model_module": "@jupyter-widgets/base",
      "model_module_version": "1.2.0",
      "model_name": "LayoutModel",
      "state": {
       "_model_module": "@jupyter-widgets/base",
       "_model_module_version": "1.2.0",
       "_model_name": "LayoutModel",
       "_view_count": null,
       "_view_module": "@jupyter-widgets/base",
       "_view_module_version": "1.2.0",
       "_view_name": "LayoutView",
       "align_content": null,
       "align_items": null,
       "align_self": null,
       "border": null,
       "bottom": null,
       "display": null,
       "flex": null,
       "flex_flow": null,
       "grid_area": null,
       "grid_auto_columns": null,
       "grid_auto_flow": null,
       "grid_auto_rows": null,
       "grid_column": null,
       "grid_gap": null,
       "grid_row": null,
       "grid_template_areas": null,
       "grid_template_columns": null,
       "grid_template_rows": null,
       "height": null,
       "justify_content": null,
       "justify_items": null,
       "left": null,
       "margin": null,
       "max_height": null,
       "max_width": null,
       "min_height": null,
       "min_width": null,
       "object_fit": null,
       "object_position": null,
       "order": null,
       "overflow": null,
       "overflow_x": null,
       "overflow_y": null,
       "padding": null,
       "right": null,
       "top": null,
       "visibility": null,
       "width": null
      }
     }
    },
    "version_major": 2,
    "version_minor": 0
   }
  }
 },
 "nbformat": 4,
 "nbformat_minor": 4
}
